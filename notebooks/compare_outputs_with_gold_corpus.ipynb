{
  "cells": [
    {
      "cell_type": "code",
      "execution_count": 1,
      "metadata": {
        "colab": {
          "base_uri": "https://localhost:8080/"
        },
        "id": "jtkdcotGoGv0",
        "outputId": "38bce6e4-f094-40f5-fa27-fa8266c551dd"
      },
      "outputs": [
        {
          "output_type": "stream",
          "name": "stdout",
          "text": [
            "Collecting deepdiff\n",
            "  Downloading deepdiff-8.0.1-py3-none-any.whl.metadata (8.5 kB)\n",
            "Collecting orderly-set==5.2.2 (from deepdiff)\n",
            "  Downloading orderly_set-5.2.2-py3-none-any.whl.metadata (6.3 kB)\n",
            "Downloading deepdiff-8.0.1-py3-none-any.whl (82 kB)\n",
            "\u001b[2K   \u001b[90m━━━━━━━━━━━━━━━━━━━━━━━━━━━━━━━━━━━━━━━━\u001b[0m \u001b[32m82.7/82.7 kB\u001b[0m \u001b[31m3.3 MB/s\u001b[0m eta \u001b[36m0:00:00\u001b[0m\n",
            "\u001b[?25hDownloading orderly_set-5.2.2-py3-none-any.whl (11 kB)\n",
            "Installing collected packages: orderly-set, deepdiff\n",
            "Successfully installed deepdiff-8.0.1 orderly-set-5.2.2\n"
          ]
        }
      ],
      "source": [
        "!pip install deepdiff"
      ]
    },
    {
      "cell_type": "code",
      "source": [
        "import json\n",
        "\n",
        "def strip_json_code_block(json_str):\n",
        "    \"\"\"\n",
        "    Strips '```json\\n' prefix and '```' suffix from a JSON string if present.\n",
        "    \"\"\"\n",
        "    json_str = json_str.strip()\n",
        "    if json_str.startswith('```json\\n'):\n",
        "        json_str = json_str[8:].lstrip('\\n\\r')\n",
        "    elif json_str.startswith('```'):\n",
        "        json_str = json_str[3:].lstrip('\\n\\r')\n",
        "    if json_str.endswith('```'):\n",
        "        json_str = json_str[:-3].rstrip('\\n\\r')\n",
        "    return json_str.strip()\n",
        "\n",
        "def preprocess_item(item):\n",
        "    \"\"\"\n",
        "    Recursively preprocess item to strip unnecessary whitespace from strings.\n",
        "    \"\"\"\n",
        "    if isinstance(item, dict):\n",
        "        return {k.strip(): preprocess_item(v) for k, v in item.items()}\n",
        "    elif isinstance(item, list):\n",
        "        return [preprocess_item(i) for i in item]\n",
        "    elif isinstance(item, str):\n",
        "        return item.strip()\n",
        "    return item\n",
        "\n",
        "def parse_json_line(line):\n",
        "    \"\"\"\n",
        "    Parse a JSON line, handling cases where the JSON object is a string representation.\n",
        "    \"\"\"\n",
        "    try:\n",
        "        item = json.loads(line)\n",
        "        while isinstance(item, str):\n",
        "            item = json.loads(item)\n",
        "        return preprocess_item(item), None\n",
        "    except json.JSONDecodeError as e:\n",
        "        return None, e\n",
        "    except Exception as e:\n",
        "        return None, e\n",
        "\n",
        "def read_jsonl_file(file_path):\n",
        "    \"\"\"\n",
        "    Read a JSONL file and return a dictionary with 'task-id' as keys.\n",
        "    \"\"\"\n",
        "    data_dict = {}\n",
        "    errors = []\n",
        "    with open(file_path, 'r', encoding='utf-8') as f:\n",
        "        for line_number, line in enumerate(f, 1):\n",
        "            item, error = parse_json_line(line)\n",
        "            if error:\n",
        "                errors.append((line_number, error))\n",
        "                continue  # Skip this line\n",
        "            task_id = item.get('task-id')\n",
        "            if task_id is not None:\n",
        "                data_dict[task_id] = item\n",
        "            else:\n",
        "                errors.append((line_number, \"Missing 'task-id'\"))\n",
        "        return data_dict, errors\n",
        "\n",
        "def flatten_json(y):\n",
        "    out = {}\n",
        "    def flatten(x, name=''):\n",
        "        if isinstance(x, dict):\n",
        "            for a in x:\n",
        "                flatten(x[a], f\"{name}.{a}\" if name else a)\n",
        "        elif isinstance(x, list):\n",
        "            for i, a in enumerate(x):\n",
        "                flatten(a, f\"{name}[{i}]\")\n",
        "        else:\n",
        "            out[name] = x\n",
        "    flatten(y)\n",
        "    return out\n",
        "\n",
        "def compare_jsons(gold_json, llm_json):\n",
        "    \"\"\"\n",
        "    Compare two JSON objects and collect statistics on TP, FP, FN.\n",
        "    \"\"\"\n",
        "    gold_flat = flatten_json(gold_json)\n",
        "    llm_flat = flatten_json(llm_json)\n",
        "\n",
        "    gold_paths = set(gold_flat.keys())\n",
        "    llm_paths = set(llm_flat.keys())\n",
        "\n",
        "    TP = 0  # True Positives\n",
        "    FP = 0  # False Positives\n",
        "    FN = 0  # False Negatives\n",
        "\n",
        "    # Iterate over all keys in the gold standard\n",
        "    for path in gold_paths:\n",
        "        if path in llm_paths:\n",
        "            if gold_flat[path] == llm_flat[path]:\n",
        "                # Correct value at correct path\n",
        "                TP += 1\n",
        "            else:\n",
        "                # Value differs at the same path\n",
        "                FN += 1\n",
        "        else:\n",
        "            # Key missing in LLM output\n",
        "            FN += 1\n",
        "\n",
        "    # Identify extra keys in LLM output\n",
        "    for path in llm_paths - gold_paths:\n",
        "        # Extra key not present in gold standard\n",
        "        FP += 1\n",
        "\n",
        "    return {'TP': TP, 'FP': FP, 'FN': FN}\n",
        "\n",
        "def compare_jsonl_files(gold_corpus_file, llm_output_file):\n",
        "    \"\"\"\n",
        "    Compare two JSONL files focusing on the 'json' key and report statistics.\n",
        "    \"\"\"\n",
        "    gold_dict, gold_errors = read_jsonl_file(gold_corpus_file)\n",
        "    llm_dict, llm_errors = read_jsonl_file(llm_output_file)\n",
        "\n",
        "    # Initialize a list to collect parsing errors in 'json' field\n",
        "    json_parsing_errors = []\n",
        "\n",
        "    # Initialize counters for statistics\n",
        "    total_TP = 0\n",
        "    total_FP = 0\n",
        "    total_FN = 0\n",
        "\n",
        "    gold_task_ids = set(gold_dict.keys())\n",
        "    llm_task_ids = set(llm_dict.keys())\n",
        "\n",
        "    missing_task_ids = gold_task_ids - llm_task_ids\n",
        "    extra_task_ids = llm_task_ids - gold_task_ids\n",
        "    matching_task_ids = gold_task_ids & llm_task_ids\n",
        "\n",
        "    # Handle missing Task IDs (LLM failed to produce output)\n",
        "    for task_id in missing_task_ids:\n",
        "        print(f\"\\nMissing Task ID in LLM output: {task_id}\")\n",
        "        gold_item = gold_dict[task_id]\n",
        "        gold_json_str = strip_json_code_block(gold_item.get('json', ''))\n",
        "        if gold_json_str:\n",
        "            try:\n",
        "                gold_json = json.loads(gold_json_str)\n",
        "                gold_json = preprocess_item(gold_json)\n",
        "                gold_flat = flatten_json(gold_json)\n",
        "                total_FN += len(gold_flat)\n",
        "            except json.JSONDecodeError:\n",
        "                pass  # Skip if gold_json cannot be parsed\n",
        "\n",
        "    # Handle extra Task IDs (LLM produced unexpected output)\n",
        "    for task_id in extra_task_ids:\n",
        "        print(f\"\\nExtra Task ID in LLM output: {task_id}\")\n",
        "        llm_item = llm_dict[task_id]\n",
        "        llm_json_str = strip_json_code_block(llm_item.get('json', ''))\n",
        "        if llm_json_str:\n",
        "            try:\n",
        "                llm_json = json.loads(llm_json_str)\n",
        "                llm_json = preprocess_item(llm_json)\n",
        "                llm_flat = flatten_json(llm_json)\n",
        "                total_FP += len(llm_flat)\n",
        "            except json.JSONDecodeError:\n",
        "                pass  # Skip if llm_json cannot be parsed\n",
        "\n",
        "    # Compare 'json' key for matching Task IDs\n",
        "    for task_id in matching_task_ids:\n",
        "        gold_item = gold_dict[task_id]\n",
        "        llm_item = llm_dict[task_id]\n",
        "\n",
        "        gold_json_str = strip_json_code_block(gold_item.get('json', ''))\n",
        "        llm_json_str = strip_json_code_block(llm_item.get('json', ''))\n",
        "\n",
        "        # Parse gold JSON\n",
        "        if not gold_json_str:\n",
        "            error_message = f\"Task ID {task_id} missing 'json' in gold corpus.\"\n",
        "            json_parsing_errors.append((task_id, error_message))\n",
        "            raise Exception('Check your gold corpus!')\n",
        "\n",
        "        try:\n",
        "            gold_json = json.loads(gold_json_str)\n",
        "            gold_json = preprocess_item(gold_json)\n",
        "            gold_flat = flatten_json(gold_json)\n",
        "        except json.JSONDecodeError as e:\n",
        "            error_message = f\"Error parsing gold JSON for Task ID {task_id}: {e}\"\n",
        "            json_parsing_errors.append((task_id, error_message))\n",
        "            raise Exception('Check your gold corpus!')\n",
        "\n",
        "        # If parsing of LLM JSON fails, increment FN (False Negative) since the LLM failed to provide a valid result\n",
        "        if not llm_json_str:\n",
        "            error_message = f\"Task ID {task_id} missing 'json' in LLM output.\"\n",
        "            json_parsing_errors.append((task_id, error_message))\n",
        "            # Count all expected data points as False Negatives\n",
        "            total_FN += len(gold_flat)\n",
        "            continue\n",
        "        try:\n",
        "            llm_json = json.loads(llm_json_str)\n",
        "            llm_json = preprocess_item(llm_json)\n",
        "            llm_flat = flatten_json(llm_json)\n",
        "        except json.JSONDecodeError as e:\n",
        "            error_message = f\"Error parsing LLM JSON for Task ID {task_id}: {e}\"\n",
        "            json_parsing_errors.append((task_id, error_message))\n",
        "            # Count all expected data points as False Negatives\n",
        "            total_FN += len(gold_flat)\n",
        "            continue\n",
        "\n",
        "        # Compare the JSON structures\n",
        "        stats = compare_jsons(gold_json, llm_json)\n",
        "\n",
        "        # Accumulate totals\n",
        "        total_TP += stats['TP']\n",
        "        total_FP += stats['FP']\n",
        "        total_FN += stats['FN']\n",
        "\n",
        "    # Calculate metrics\n",
        "    total_items = total_TP + total_FP + total_FN\n",
        "    Precision = (total_TP / (total_TP + total_FP)) * 100 if (total_TP + total_FP) > 0 else 0\n",
        "    Recall = (total_TP / (total_TP + total_FN)) * 100 if (total_TP + total_FN) > 0 else 0\n",
        "    F1_Score = (2 * Precision * Recall / (Precision + Recall)) if (Precision + Recall) > 0 else 0\n",
        "    Accuracy = (total_TP / total_items) * 100 if total_items > 0 else 0\n",
        "\n",
        "    # Report parsing errors\n",
        "    total_errors = len(gold_errors) + len(llm_errors) + len(json_parsing_errors)\n",
        "    if total_errors > 0:\n",
        "        print(f\"\\nTotal parsing errors: {total_errors}\")\n",
        "        if gold_errors:\n",
        "            print(\"\\nErrors in gold corpus:\")\n",
        "            for line_number, error in gold_errors:\n",
        "                print(f\"  Line {line_number}: {error}\")\n",
        "        if llm_errors:\n",
        "            print(\"\\nErrors in LLM output:\")\n",
        "            for line_number, error in llm_errors:\n",
        "                print(f\"  Line {line_number}: {error}\")\n",
        "        if json_parsing_errors:\n",
        "            print(\"\\nErrors parsing 'json' field:\")\n",
        "            for task_id, error_message in json_parsing_errors:\n",
        "                print(f\"  Task ID {task_id}: {error_message}\")\n",
        "\n",
        "    # Print total statistics and evaluation metrics\n",
        "    print(\"\\nTotal statistics across all Task IDs:\")\n",
        "    print(f\"  Total True Positives (Correctly formatted items): {total_TP}\")\n",
        "    print(f\"  Total False Positives (Extra items not in gold standard): {total_FP}\")\n",
        "    print(f\"  Total False Negatives (Missing or incorrect items): {total_FN}\")\n",
        "    print(f\"\\nEvaluation Metrics:\")\n",
        "    print(f\"  Accuracy: {Accuracy:.2f}%\")\n",
        "    print(f\"  Precision: {Precision:.2f}%\")\n",
        "    print(f\"  Recall: {Recall:.2f}%\")\n",
        "    print(f\"  F1 Score: {F1_Score:.2f}%\")"
      ],
      "metadata": {
        "id": "dwKSht7EdBrd"
      },
      "execution_count": 2,
      "outputs": []
    },
    {
      "cell_type": "markdown",
      "metadata": {
        "id": "F7QrPSgqn99b"
      },
      "source": [
        "# Get gold corpus"
      ]
    },
    {
      "cell_type": "code",
      "execution_count": 3,
      "metadata": {
        "colab": {
          "base_uri": "https://localhost:8080/"
        },
        "id": "7XU4L6_kns-B",
        "outputId": "ee2efca1-15e2-4abc-ffff-f6e8c7b76898"
      },
      "outputs": [
        {
          "output_type": "stream",
          "name": "stdout",
          "text": [
            "--2024-09-23 04:57:35--  https://raw.githubusercontent.com/kyrgyz-nlp/structured_yudakhin/refs/heads/main/data/gold_corpus_structured_yudakhin.jsonl\n",
            "Resolving raw.githubusercontent.com (raw.githubusercontent.com)... 185.199.108.133, 185.199.109.133, 185.199.110.133, ...\n",
            "Connecting to raw.githubusercontent.com (raw.githubusercontent.com)|185.199.108.133|:443... connected.\n",
            "HTTP request sent, awaiting response... 200 OK\n",
            "Length: 81445 (80K) [text/plain]\n",
            "Saving to: ‘gold_corpus_structured_yudakhin.jsonl’\n",
            "\n",
            "\r          gold_corp   0%[                    ]       0  --.-KB/s               \rgold_corpus_structu 100%[===================>]  79.54K  --.-KB/s    in 0.002s  \n",
            "\n",
            "2024-09-23 04:57:35 (31.5 MB/s) - ‘gold_corpus_structured_yudakhin.jsonl’ saved [81445/81445]\n",
            "\n"
          ]
        }
      ],
      "source": [
        "!wget https://raw.githubusercontent.com/kyrgyz-nlp/structured_yudakhin/refs/heads/main/data/gold_corpus_structured_yudakhin.jsonl"
      ]
    },
    {
      "cell_type": "markdown",
      "metadata": {
        "id": "sf7IFwT_oHM2"
      },
      "source": [
        "# Get fine-tuned Gemini Flash 1.5's output"
      ]
    },
    {
      "cell_type": "code",
      "execution_count": 4,
      "metadata": {
        "colab": {
          "base_uri": "https://localhost:8080/"
        },
        "id": "uGQc2xTPn9V6",
        "outputId": "02ae6add-5bb8-434e-97d6-513274247139"
      },
      "outputs": [
        {
          "output_type": "stream",
          "name": "stdout",
          "text": [
            "--2024-09-23 04:57:35--  https://raw.githubusercontent.com/kyrgyz-nlp/structured_yudakhin/refs/heads/main/data/gemini_flash_outputs/fine_tuned_gemini_flash_outputs.jsonl\n",
            "Resolving raw.githubusercontent.com (raw.githubusercontent.com)... 185.199.108.133, 185.199.109.133, 185.199.110.133, ...\n",
            "Connecting to raw.githubusercontent.com (raw.githubusercontent.com)|185.199.108.133|:443... connected.\n",
            "HTTP request sent, awaiting response... 200 OK\n",
            "Length: 90259 (88K) [text/plain]\n",
            "Saving to: ‘fine_tuned_gemini_flash_outputs.jsonl’\n",
            "\n",
            "\r          fine_tune   0%[                    ]       0  --.-KB/s               \rfine_tuned_gemini_f 100%[===================>]  88.14K  --.-KB/s    in 0.004s  \n",
            "\n",
            "2024-09-23 04:57:35 (23.6 MB/s) - ‘fine_tuned_gemini_flash_outputs.jsonl’ saved [90259/90259]\n",
            "\n"
          ]
        }
      ],
      "source": [
        "!wget https://raw.githubusercontent.com/kyrgyz-nlp/structured_yudakhin/refs/heads/main/data/gemini_flash_outputs/fine_tuned_gemini_flash_outputs.jsonl"
      ]
    },
    {
      "cell_type": "code",
      "source": [
        "gold_corpus_file = 'gold_corpus_structured_yudakhin.jsonl'\n",
        "llm_output_file = 'fine_tuned_gemini_flash_outputs.jsonl'\n",
        "\n",
        "compare_jsonl_files(gold_corpus_file, llm_output_file)"
      ],
      "metadata": {
        "colab": {
          "base_uri": "https://localhost:8080/"
        },
        "id": "QwKzEojMkB_X",
        "outputId": "8a05761b-1de1-4616-90bf-4d47cee0706d"
      },
      "execution_count": 5,
      "outputs": [
        {
          "output_type": "stream",
          "name": "stdout",
          "text": [
            "\n",
            "Total parsing errors: 3\n",
            "\n",
            "Errors parsing 'json' field:\n",
            "  Task ID 4130a6ce-2389-4727-8168-9a0ade47d420: Error parsing LLM JSON for Task ID 4130a6ce-2389-4727-8168-9a0ade47d420: Extra data: line 18 column 1 (char 241)\n",
            "  Task ID 71f0c0d5-3302-4395-b41e-0f7f97d89163: Error parsing LLM JSON for Task ID 71f0c0d5-3302-4395-b41e-0f7f97d89163: Extra data: line 14 column 1 (char 165)\n",
            "  Task ID d1c737f7-a5a6-4c6e-803a-34165ac47b25: Error parsing LLM JSON for Task ID d1c737f7-a5a6-4c6e-803a-34165ac47b25: Extra data: line 14 column 1 (char 174)\n",
            "\n",
            "Total statistics across all Task IDs:\n",
            "  Total True Positives (Correctly formatted items): 700\n",
            "  Total False Positives (Extra items not in gold standard): 107\n",
            "  Total False Negatives (Missing or incorrect items): 148\n",
            "\n",
            "Evaluation Metrics:\n",
            "  Accuracy: 73.30%\n",
            "  Precision: 86.74%\n",
            "  Recall: 82.55%\n",
            "  F1 Score: 84.59%\n"
          ]
        }
      ]
    },
    {
      "cell_type": "markdown",
      "source": [
        "# Get vanilla Gemini Flash 1.5's output"
      ],
      "metadata": {
        "id": "zHmUAZoiVMqi"
      }
    },
    {
      "cell_type": "code",
      "source": [
        "!wget https://raw.githubusercontent.com/kyrgyz-nlp/structured_yudakhin/refs/heads/main/data/gemini_flash_outputs/untrained_gemini_flash_outputs.jsonl"
      ],
      "metadata": {
        "colab": {
          "base_uri": "https://localhost:8080/"
        },
        "id": "jksY6MBlU_vp",
        "outputId": "87998389-4c4d-4d32-da65-ff42fd7b7752"
      },
      "execution_count": 6,
      "outputs": [
        {
          "output_type": "stream",
          "name": "stdout",
          "text": [
            "--2024-09-23 04:57:43--  https://raw.githubusercontent.com/kyrgyz-nlp/structured_yudakhin/refs/heads/main/data/gemini_flash_outputs/untrained_gemini_flash_outputs.jsonl\n",
            "Resolving raw.githubusercontent.com (raw.githubusercontent.com)... 185.199.108.133, 185.199.109.133, 185.199.110.133, ...\n",
            "Connecting to raw.githubusercontent.com (raw.githubusercontent.com)|185.199.108.133|:443... connected.\n",
            "HTTP request sent, awaiting response... 200 OK\n",
            "Length: 186519 (182K) [text/plain]\n",
            "Saving to: ‘untrained_gemini_flash_outputs.jsonl’\n",
            "\n",
            "\r          untrained   0%[                    ]       0  --.-KB/s               \runtrained_gemini_fl 100%[===================>] 182.15K  --.-KB/s    in 0.005s  \n",
            "\n",
            "2024-09-23 04:57:43 (32.5 MB/s) - ‘untrained_gemini_flash_outputs.jsonl’ saved [186519/186519]\n",
            "\n"
          ]
        }
      ]
    },
    {
      "cell_type": "markdown",
      "source": [
        "### Zero shot"
      ],
      "metadata": {
        "id": "V7xq0nBbAW_L"
      }
    },
    {
      "cell_type": "code",
      "source": [
        "gold_corpus_file = 'gold_corpus_structured_yudakhin.jsonl'\n",
        "llm_output_file = 'untrained_gemini_flash_outputs.jsonl'\n",
        "\n",
        "compare_jsonl_files(gold_corpus_file, llm_output_file)"
      ],
      "metadata": {
        "colab": {
          "base_uri": "https://localhost:8080/"
        },
        "id": "LVpJ6bTsjRvm",
        "outputId": "33369381-f262-4772-df84-681dd7c2da65"
      },
      "execution_count": 7,
      "outputs": [
        {
          "output_type": "stream",
          "name": "stdout",
          "text": [
            "\n",
            "Total parsing errors: 5\n",
            "\n",
            "Errors parsing 'json' field:\n",
            "  Task ID 8ffa3ce8-c2d9-40f8-871e-4aff86c31f99: Error parsing LLM JSON for Task ID 8ffa3ce8-c2d9-40f8-871e-4aff86c31f99: Expecting ',' delimiter: line 12 column 25 (char 248)\n",
            "  Task ID af43de31-8fc5-4a63-93ef-dc570efc4449: Error parsing LLM JSON for Task ID af43de31-8fc5-4a63-93ef-dc570efc4449: Expecting ',' delimiter: line 49 column 25 (char 1259)\n",
            "  Task ID cc2d5608-c629-4856-856a-4af949c975eb: Error parsing LLM JSON for Task ID cc2d5608-c629-4856-856a-4af949c975eb: Expecting ',' delimiter: line 12 column 29 (char 195)\n",
            "  Task ID a6661a28-9323-4c5c-a7f9-d6730686a5ff: Error parsing LLM JSON for Task ID a6661a28-9323-4c5c-a7f9-d6730686a5ff: Expecting ',' delimiter: line 11 column 25 (char 195)\n",
            "  Task ID acb89d97-59b5-48f5-ab7b-0a8dcfe00303: Error parsing LLM JSON for Task ID acb89d97-59b5-48f5-ab7b-0a8dcfe00303: Expecting ',' delimiter: line 11 column 25 (char 208)\n",
            "\n",
            "Total statistics across all Task IDs:\n",
            "  Total True Positives (Correctly formatted items): 320\n",
            "  Total False Positives (Extra items not in gold standard): 602\n",
            "  Total False Negatives (Missing or incorrect items): 528\n",
            "\n",
            "Evaluation Metrics:\n",
            "  Accuracy: 22.07%\n",
            "  Precision: 34.71%\n",
            "  Recall: 37.74%\n",
            "  F1 Score: 36.16%\n"
          ]
        }
      ]
    },
    {
      "cell_type": "markdown",
      "source": [
        "# Get vanilla Gemini Flash 1.5's output with few-shot examples"
      ],
      "metadata": {
        "id": "WSy6oUQ_tVfx"
      }
    },
    {
      "cell_type": "code",
      "source": [
        "!wget https://raw.githubusercontent.com/kyrgyz-nlp/structured_yudakhin/refs/heads/main/data/gemini_flash_outputs/untrained_gemini_flash_outputs_23_examples.jsonl\n",
        "!wget https://raw.githubusercontent.com/kyrgyz-nlp/structured_yudakhin/refs/heads/main/data/gemini_flash_outputs/untrained_gemini_flash_outputs_17_examples.jsonl\n",
        "!wget https://raw.githubusercontent.com/kyrgyz-nlp/structured_yudakhin/refs/heads/main/data/gemini_flash_outputs/untrained_gemini_flash_outputs_12_examples.jsonl\n",
        "!wget https://raw.githubusercontent.com/kyrgyz-nlp/structured_yudakhin/refs/heads/main/data/gemini_flash_outputs/untrained_gemini_flash_outputs_6_examples.jsonl"
      ],
      "metadata": {
        "colab": {
          "base_uri": "https://localhost:8080/"
        },
        "id": "aQWTNN6kjiFW",
        "outputId": "3074756a-61c6-43ee-ceca-a2901af9ed72"
      },
      "execution_count": 8,
      "outputs": [
        {
          "output_type": "stream",
          "name": "stdout",
          "text": [
            "--2024-09-23 04:57:50--  https://raw.githubusercontent.com/kyrgyz-nlp/structured_yudakhin/refs/heads/main/data/gemini_flash_outputs/untrained_gemini_flash_outputs_23_examples.jsonl\n",
            "Resolving raw.githubusercontent.com (raw.githubusercontent.com)... 185.199.108.133, 185.199.109.133, 185.199.110.133, ...\n",
            "Connecting to raw.githubusercontent.com (raw.githubusercontent.com)|185.199.108.133|:443... connected.\n",
            "HTTP request sent, awaiting response... 200 OK\n",
            "Length: 81138 (79K) [text/plain]\n",
            "Saving to: ‘untrained_gemini_flash_outputs_23_examples.jsonl’\n",
            "\n",
            "\r          untrained   0%[                    ]       0  --.-KB/s               \runtrained_gemini_fl 100%[===================>]  79.24K  --.-KB/s    in 0.003s  \n",
            "\n",
            "2024-09-23 04:57:50 (29.9 MB/s) - ‘untrained_gemini_flash_outputs_23_examples.jsonl’ saved [81138/81138]\n",
            "\n",
            "--2024-09-23 04:57:50--  https://raw.githubusercontent.com/kyrgyz-nlp/structured_yudakhin/refs/heads/main/data/gemini_flash_outputs/untrained_gemini_flash_outputs_17_examples.jsonl\n",
            "Resolving raw.githubusercontent.com (raw.githubusercontent.com)... 185.199.108.133, 185.199.111.133, 185.199.110.133, ...\n",
            "Connecting to raw.githubusercontent.com (raw.githubusercontent.com)|185.199.108.133|:443... connected.\n",
            "HTTP request sent, awaiting response... 200 OK\n",
            "Length: 81224 (79K) [text/plain]\n",
            "Saving to: ‘untrained_gemini_flash_outputs_17_examples.jsonl’\n",
            "\n",
            "untrained_gemini_fl 100%[===================>]  79.32K  --.-KB/s    in 0.003s  \n",
            "\n",
            "2024-09-23 04:57:51 (27.8 MB/s) - ‘untrained_gemini_flash_outputs_17_examples.jsonl’ saved [81224/81224]\n",
            "\n",
            "--2024-09-23 04:57:51--  https://raw.githubusercontent.com/kyrgyz-nlp/structured_yudakhin/refs/heads/main/data/gemini_flash_outputs/untrained_gemini_flash_outputs_12_examples.jsonl\n",
            "Resolving raw.githubusercontent.com (raw.githubusercontent.com)... 185.199.108.133, 185.199.109.133, 185.199.110.133, ...\n",
            "Connecting to raw.githubusercontent.com (raw.githubusercontent.com)|185.199.108.133|:443... connected.\n",
            "HTTP request sent, awaiting response... 200 OK\n",
            "Length: 81125 (79K) [text/plain]\n",
            "Saving to: ‘untrained_gemini_flash_outputs_12_examples.jsonl’\n",
            "\n",
            "untrained_gemini_fl 100%[===================>]  79.22K  --.-KB/s    in 0.003s  \n",
            "\n",
            "2024-09-23 04:57:51 (27.3 MB/s) - ‘untrained_gemini_flash_outputs_12_examples.jsonl’ saved [81125/81125]\n",
            "\n",
            "--2024-09-23 04:57:51--  https://raw.githubusercontent.com/kyrgyz-nlp/structured_yudakhin/refs/heads/main/data/gemini_flash_outputs/untrained_gemini_flash_outputs_6_examples.jsonl\n",
            "Resolving raw.githubusercontent.com (raw.githubusercontent.com)... 185.199.108.133, 185.199.111.133, 185.199.110.133, ...\n",
            "Connecting to raw.githubusercontent.com (raw.githubusercontent.com)|185.199.108.133|:443... connected.\n",
            "HTTP request sent, awaiting response... 200 OK\n",
            "Length: 81945 (80K) [text/plain]\n",
            "Saving to: ‘untrained_gemini_flash_outputs_6_examples.jsonl’\n",
            "\n",
            "untrained_gemini_fl 100%[===================>]  80.02K  --.-KB/s    in 0.003s  \n",
            "\n",
            "2024-09-23 04:57:51 (29.1 MB/s) - ‘untrained_gemini_flash_outputs_6_examples.jsonl’ saved [81945/81945]\n",
            "\n"
          ]
        }
      ]
    },
    {
      "cell_type": "code",
      "source": [
        "gold_corpus_file = 'gold_corpus_structured_yudakhin.jsonl'\n",
        "llm_output_file = 'untrained_gemini_flash_outputs_6_examples.jsonl'\n",
        "\n",
        "compare_jsonl_files(gold_corpus_file, llm_output_file)"
      ],
      "metadata": {
        "colab": {
          "base_uri": "https://localhost:8080/"
        },
        "id": "1ACi4w7dtj7x",
        "outputId": "d1e6b03f-ac3a-4049-91ad-762048d65b02"
      },
      "execution_count": 9,
      "outputs": [
        {
          "output_type": "stream",
          "name": "stdout",
          "text": [
            "\n",
            "Total statistics across all Task IDs:\n",
            "  Total True Positives (Correctly formatted items): 702\n",
            "  Total False Positives (Extra items not in gold standard): 59\n",
            "  Total False Negatives (Missing or incorrect items): 146\n",
            "\n",
            "Evaluation Metrics:\n",
            "  Accuracy: 77.40%\n",
            "  Precision: 92.25%\n",
            "  Recall: 82.78%\n",
            "  F1 Score: 87.26%\n"
          ]
        }
      ]
    },
    {
      "cell_type": "code",
      "source": [
        "gold_corpus_file = 'gold_corpus_structured_yudakhin.jsonl'\n",
        "llm_output_file = 'untrained_gemini_flash_outputs_12_examples.jsonl'\n",
        "\n",
        "compare_jsonl_files(gold_corpus_file, llm_output_file)"
      ],
      "metadata": {
        "colab": {
          "base_uri": "https://localhost:8080/"
        },
        "id": "B4870-w1tojO",
        "outputId": "91558617-efef-40ba-b2d5-2c75f09fd355"
      },
      "execution_count": 10,
      "outputs": [
        {
          "output_type": "stream",
          "name": "stdout",
          "text": [
            "\n",
            "Total statistics across all Task IDs:\n",
            "  Total True Positives (Correctly formatted items): 712\n",
            "  Total False Positives (Extra items not in gold standard): 41\n",
            "  Total False Negatives (Missing or incorrect items): 136\n",
            "\n",
            "Evaluation Metrics:\n",
            "  Accuracy: 80.09%\n",
            "  Precision: 94.56%\n",
            "  Recall: 83.96%\n",
            "  F1 Score: 88.94%\n"
          ]
        }
      ]
    },
    {
      "cell_type": "code",
      "source": [
        "gold_corpus_file = 'gold_corpus_structured_yudakhin.jsonl'\n",
        "llm_output_file = 'untrained_gemini_flash_outputs_17_examples.jsonl'\n",
        "\n",
        "compare_jsonl_files(gold_corpus_file, llm_output_file)"
      ],
      "metadata": {
        "colab": {
          "base_uri": "https://localhost:8080/"
        },
        "id": "jEheqWoutvqT",
        "outputId": "5ec53f81-aff9-4c85-b901-9ca4cbc43b31"
      },
      "execution_count": 11,
      "outputs": [
        {
          "output_type": "stream",
          "name": "stdout",
          "text": [
            "\n",
            "Total statistics across all Task IDs:\n",
            "  Total True Positives (Correctly formatted items): 719\n",
            "  Total False Positives (Extra items not in gold standard): 40\n",
            "  Total False Negatives (Missing or incorrect items): 129\n",
            "\n",
            "Evaluation Metrics:\n",
            "  Accuracy: 80.97%\n",
            "  Precision: 94.73%\n",
            "  Recall: 84.79%\n",
            "  F1 Score: 89.48%\n"
          ]
        }
      ]
    },
    {
      "cell_type": "code",
      "source": [
        "gold_corpus_file = 'gold_corpus_structured_yudakhin.jsonl'\n",
        "llm_output_file = 'untrained_gemini_flash_outputs_23_examples.jsonl'\n",
        "\n",
        "compare_jsonl_files(gold_corpus_file, llm_output_file)"
      ],
      "metadata": {
        "colab": {
          "base_uri": "https://localhost:8080/"
        },
        "id": "tj4_Zj-3t0j5",
        "outputId": "058965b3-22e0-40d5-8a55-4c26ae94b22a"
      },
      "execution_count": 12,
      "outputs": [
        {
          "output_type": "stream",
          "name": "stdout",
          "text": [
            "\n",
            "Total statistics across all Task IDs:\n",
            "  Total True Positives (Correctly formatted items): 723\n",
            "  Total False Positives (Extra items not in gold standard): 39\n",
            "  Total False Negatives (Missing or incorrect items): 125\n",
            "\n",
            "Evaluation Metrics:\n",
            "  Accuracy: 81.51%\n",
            "  Precision: 94.88%\n",
            "  Recall: 85.26%\n",
            "  F1 Score: 89.81%\n"
          ]
        }
      ]
    },
    {
      "cell_type": "markdown",
      "source": [
        "# Get vanilla ChatGPT-4o's zero-shot output"
      ],
      "metadata": {
        "id": "6gX1Z7i-gyn_"
      }
    },
    {
      "cell_type": "code",
      "source": [
        "!wget https://raw.githubusercontent.com/kyrgyz-nlp/structured_yudakhin/refs/heads/main/data/chatgpt_4o_outputs/untrained_chatgpt_4o_outputs.jsonl"
      ],
      "metadata": {
        "colab": {
          "base_uri": "https://localhost:8080/"
        },
        "id": "e_sLh5dqhDJh",
        "outputId": "becc5d6a-5421-4970-bcd1-0b4dd800a745"
      },
      "execution_count": 13,
      "outputs": [
        {
          "output_type": "stream",
          "name": "stdout",
          "text": [
            "--2024-09-23 04:58:06--  https://raw.githubusercontent.com/kyrgyz-nlp/structured_yudakhin/refs/heads/main/data/chatgpt_4o_outputs/untrained_chatgpt_4o_outputs.jsonl\n",
            "Resolving raw.githubusercontent.com (raw.githubusercontent.com)... 185.199.108.133, 185.199.109.133, 185.199.110.133, ...\n",
            "Connecting to raw.githubusercontent.com (raw.githubusercontent.com)|185.199.108.133|:443... connected.\n",
            "HTTP request sent, awaiting response... 200 OK\n",
            "Length: 163744 (160K) [text/plain]\n",
            "Saving to: ‘untrained_chatgpt_4o_outputs.jsonl’\n",
            "\n",
            "\r          untrained   0%[                    ]       0  --.-KB/s               \runtrained_chatgpt_4 100%[===================>] 159.91K  --.-KB/s    in 0.005s  \n",
            "\n",
            "2024-09-23 04:58:06 (31.2 MB/s) - ‘untrained_chatgpt_4o_outputs.jsonl’ saved [163744/163744]\n",
            "\n"
          ]
        }
      ]
    },
    {
      "cell_type": "code",
      "source": [
        "gold_corpus_file = 'gold_corpus_structured_yudakhin.jsonl'\n",
        "llm_output_file = 'untrained_chatgpt_4o_outputs.jsonl'\n",
        "\n",
        "compare_jsonl_files(gold_corpus_file, llm_output_file)"
      ],
      "metadata": {
        "colab": {
          "base_uri": "https://localhost:8080/"
        },
        "id": "TbKATWGkg92U",
        "outputId": "f05e877f-2fd1-4307-df4f-9f8be695ce77"
      },
      "execution_count": 14,
      "outputs": [
        {
          "output_type": "stream",
          "name": "stdout",
          "text": [
            "\n",
            "Total statistics across all Task IDs:\n",
            "  Total True Positives (Correctly formatted items): 473\n",
            "  Total False Positives (Extra items not in gold standard): 346\n",
            "  Total False Negatives (Missing or incorrect items): 375\n",
            "\n",
            "Evaluation Metrics:\n",
            "  Accuracy: 39.61%\n",
            "  Precision: 57.75%\n",
            "  Recall: 55.78%\n",
            "  F1 Score: 56.75%\n"
          ]
        }
      ]
    },
    {
      "cell_type": "markdown",
      "source": [
        "# Get vanilla ChatGPT 4o's outputs with few-shot examples\n"
      ],
      "metadata": {
        "id": "c6I9L1Asy5KR"
      }
    },
    {
      "cell_type": "code",
      "source": [
        "!wget https://raw.githubusercontent.com/kyrgyz-nlp/structured_yudakhin/refs/heads/main/data/chatgpt_4o_outputs/untrained_chatgpt_4o_outputs_23_examples.jsonl\n",
        "!wget https://raw.githubusercontent.com/kyrgyz-nlp/structured_yudakhin/refs/heads/main/data/chatgpt_4o_outputs/untrained_chatgpt_4o_outputs_17_examples.jsonl\n",
        "!wget https://raw.githubusercontent.com/kyrgyz-nlp/structured_yudakhin/refs/heads/main/data/chatgpt_4o_outputs/untrained_chatgpt_4o_outputs_12_examples.jsonl\n",
        "!wget https://raw.githubusercontent.com/kyrgyz-nlp/structured_yudakhin/refs/heads/main/data/chatgpt_4o_outputs/untrained_chatgpt_4o_outputs_6_examples.jsonl"
      ],
      "metadata": {
        "colab": {
          "base_uri": "https://localhost:8080/"
        },
        "id": "UyOLmxjrt6Tk",
        "outputId": "c1235775-b589-450c-929a-8132f91426c7"
      },
      "execution_count": 15,
      "outputs": [
        {
          "output_type": "stream",
          "name": "stdout",
          "text": [
            "--2024-09-23 04:58:10--  https://raw.githubusercontent.com/kyrgyz-nlp/structured_yudakhin/refs/heads/main/data/chatgpt_4o_outputs/untrained_chatgpt_4o_outputs_23_examples.jsonl\n",
            "Resolving raw.githubusercontent.com (raw.githubusercontent.com)... 185.199.108.133, 185.199.110.133, 185.199.109.133, ...\n",
            "Connecting to raw.githubusercontent.com (raw.githubusercontent.com)|185.199.108.133|:443... connected.\n",
            "HTTP request sent, awaiting response... 200 OK\n",
            "Length: 81025 (79K) [text/plain]\n",
            "Saving to: ‘untrained_chatgpt_4o_outputs_23_examples.jsonl’\n",
            "\n",
            "\r          untrained   0%[                    ]       0  --.-KB/s               \runtrained_chatgpt_4 100%[===================>]  79.13K  --.-KB/s    in 0.004s  \n",
            "\n",
            "2024-09-23 04:58:10 (21.0 MB/s) - ‘untrained_chatgpt_4o_outputs_23_examples.jsonl’ saved [81025/81025]\n",
            "\n",
            "--2024-09-23 04:58:10--  https://raw.githubusercontent.com/kyrgyz-nlp/structured_yudakhin/refs/heads/main/data/chatgpt_4o_outputs/untrained_chatgpt_4o_outputs_17_examples.jsonl\n",
            "Resolving raw.githubusercontent.com (raw.githubusercontent.com)... 185.199.108.133, 185.199.111.133, 185.199.110.133, ...\n",
            "Connecting to raw.githubusercontent.com (raw.githubusercontent.com)|185.199.108.133|:443... connected.\n",
            "HTTP request sent, awaiting response... 200 OK\n",
            "Length: 81950 (80K) [text/plain]\n",
            "Saving to: ‘untrained_chatgpt_4o_outputs_17_examples.jsonl’\n",
            "\n",
            "untrained_chatgpt_4 100%[===================>]  80.03K  --.-KB/s    in 0.003s  \n",
            "\n",
            "2024-09-23 04:58:10 (22.8 MB/s) - ‘untrained_chatgpt_4o_outputs_17_examples.jsonl’ saved [81950/81950]\n",
            "\n",
            "--2024-09-23 04:58:10--  https://raw.githubusercontent.com/kyrgyz-nlp/structured_yudakhin/refs/heads/main/data/chatgpt_4o_outputs/untrained_chatgpt_4o_outputs_12_examples.jsonl\n",
            "Resolving raw.githubusercontent.com (raw.githubusercontent.com)... 185.199.108.133, 185.199.109.133, 185.199.110.133, ...\n",
            "Connecting to raw.githubusercontent.com (raw.githubusercontent.com)|185.199.108.133|:443... connected.\n",
            "HTTP request sent, awaiting response... 200 OK\n",
            "Length: 81509 (80K) [text/plain]\n",
            "Saving to: ‘untrained_chatgpt_4o_outputs_12_examples.jsonl’\n",
            "\n",
            "untrained_chatgpt_4 100%[===================>]  79.60K  --.-KB/s    in 0.003s  \n",
            "\n",
            "2024-09-23 04:58:10 (23.7 MB/s) - ‘untrained_chatgpt_4o_outputs_12_examples.jsonl’ saved [81509/81509]\n",
            "\n",
            "--2024-09-23 04:58:10--  https://raw.githubusercontent.com/kyrgyz-nlp/structured_yudakhin/refs/heads/main/data/chatgpt_4o_outputs/untrained_chatgpt_4o_outputs_6_examples.jsonl\n",
            "Resolving raw.githubusercontent.com (raw.githubusercontent.com)... 185.199.111.133, 185.199.110.133, 185.199.109.133, ...\n",
            "Connecting to raw.githubusercontent.com (raw.githubusercontent.com)|185.199.111.133|:443... connected.\n",
            "HTTP request sent, awaiting response... 200 OK\n",
            "Length: 82450 (81K) [text/plain]\n",
            "Saving to: ‘untrained_chatgpt_4o_outputs_6_examples.jsonl’\n",
            "\n",
            "untrained_chatgpt_4 100%[===================>]  80.52K  --.-KB/s    in 0.003s  \n",
            "\n",
            "2024-09-23 04:58:10 (24.1 MB/s) - ‘untrained_chatgpt_4o_outputs_6_examples.jsonl’ saved [82450/82450]\n",
            "\n"
          ]
        }
      ]
    },
    {
      "cell_type": "code",
      "source": [
        "gold_corpus_file = 'gold_corpus_structured_yudakhin.jsonl'\n",
        "llm_output_file = 'untrained_chatgpt_4o_outputs_6_examples.jsonl'\n",
        "\n",
        "compare_jsonl_files(gold_corpus_file, llm_output_file)"
      ],
      "metadata": {
        "colab": {
          "base_uri": "https://localhost:8080/"
        },
        "id": "LooNNqx0y1cU",
        "outputId": "3b6c97ac-023f-4371-e0c9-b444730bdaf5"
      },
      "execution_count": 16,
      "outputs": [
        {
          "output_type": "stream",
          "name": "stdout",
          "text": [
            "\n",
            "Total statistics across all Task IDs:\n",
            "  Total True Positives (Correctly formatted items): 710\n",
            "  Total False Positives (Extra items not in gold standard): 110\n",
            "  Total False Negatives (Missing or incorrect items): 138\n",
            "\n",
            "Evaluation Metrics:\n",
            "  Accuracy: 74.11%\n",
            "  Precision: 86.59%\n",
            "  Recall: 83.73%\n",
            "  F1 Score: 85.13%\n"
          ]
        }
      ]
    },
    {
      "cell_type": "code",
      "source": [
        "gold_corpus_file = 'gold_corpus_structured_yudakhin.jsonl'\n",
        "llm_output_file = 'untrained_chatgpt_4o_outputs_12_examples.jsonl'\n",
        "\n",
        "compare_jsonl_files(gold_corpus_file, llm_output_file)"
      ],
      "metadata": {
        "colab": {
          "base_uri": "https://localhost:8080/"
        },
        "id": "BbfJyt6GzID4",
        "outputId": "9d0dcb44-1ecb-428d-d9d5-30b5e10c67e5"
      },
      "execution_count": 17,
      "outputs": [
        {
          "output_type": "stream",
          "name": "stdout",
          "text": [
            "\n",
            "Total statistics across all Task IDs:\n",
            "  Total True Positives (Correctly formatted items): 754\n",
            "  Total False Positives (Extra items not in gold standard): 39\n",
            "  Total False Negatives (Missing or incorrect items): 94\n",
            "\n",
            "Evaluation Metrics:\n",
            "  Accuracy: 85.01%\n",
            "  Precision: 95.08%\n",
            "  Recall: 88.92%\n",
            "  F1 Score: 91.90%\n"
          ]
        }
      ]
    },
    {
      "cell_type": "code",
      "source": [
        "gold_corpus_file = 'gold_corpus_structured_yudakhin.jsonl'\n",
        "llm_output_file = 'untrained_chatgpt_4o_outputs_17_examples.jsonl'\n",
        "\n",
        "compare_jsonl_files(gold_corpus_file, llm_output_file)"
      ],
      "metadata": {
        "colab": {
          "base_uri": "https://localhost:8080/"
        },
        "id": "vsmsi4E9zLO2",
        "outputId": "354ea9ff-b1ac-4765-d5f1-dfff209fa5dc"
      },
      "execution_count": 18,
      "outputs": [
        {
          "output_type": "stream",
          "name": "stdout",
          "text": [
            "\n",
            "Total statistics across all Task IDs:\n",
            "  Total True Positives (Correctly formatted items): 781\n",
            "  Total False Positives (Extra items not in gold standard): 31\n",
            "  Total False Negatives (Missing or incorrect items): 67\n",
            "\n",
            "Evaluation Metrics:\n",
            "  Accuracy: 88.85%\n",
            "  Precision: 96.18%\n",
            "  Recall: 92.10%\n",
            "  F1 Score: 94.10%\n"
          ]
        }
      ]
    },
    {
      "cell_type": "code",
      "source": [
        "gold_corpus_file = 'gold_corpus_structured_yudakhin.jsonl'\n",
        "llm_output_file = 'untrained_chatgpt_4o_outputs_23_examples.jsonl'\n",
        "\n",
        "compare_jsonl_files(gold_corpus_file, llm_output_file)"
      ],
      "metadata": {
        "colab": {
          "base_uri": "https://localhost:8080/"
        },
        "id": "c_rny4n8zPKT",
        "outputId": "3bac4ea9-23eb-41f8-d32f-f3df5a799331"
      },
      "execution_count": 19,
      "outputs": [
        {
          "output_type": "stream",
          "name": "stdout",
          "text": [
            "\n",
            "Total statistics across all Task IDs:\n",
            "  Total True Positives (Correctly formatted items): 801\n",
            "  Total False Positives (Extra items not in gold standard): 16\n",
            "  Total False Negatives (Missing or incorrect items): 47\n",
            "\n",
            "Evaluation Metrics:\n",
            "  Accuracy: 92.71%\n",
            "  Precision: 98.04%\n",
            "  Recall: 94.46%\n",
            "  F1 Score: 96.22%\n"
          ]
        }
      ]
    },
    {
      "cell_type": "markdown",
      "source": [
        "# Get vanilla ChatGPT 4o-mini's zero-shot outputs\n"
      ],
      "metadata": {
        "id": "HFlLeMtP2ZxK"
      }
    },
    {
      "cell_type": "code",
      "source": [
        "!wget https://raw.githubusercontent.com/kyrgyz-nlp/structured_yudakhin/refs/heads/main/data/chatgpt_4o_mini_outputs/untrained_chatgpt_4o_mini_outputs.jsonl"
      ],
      "metadata": {
        "colab": {
          "base_uri": "https://localhost:8080/"
        },
        "id": "cDLXUWjoh67n",
        "outputId": "03a8c87f-f39e-49bc-fffe-e737ef72a859"
      },
      "execution_count": 20,
      "outputs": [
        {
          "output_type": "stream",
          "name": "stdout",
          "text": [
            "--2024-09-23 04:58:28--  https://raw.githubusercontent.com/kyrgyz-nlp/structured_yudakhin/refs/heads/main/data/chatgpt_4o_mini_outputs/untrained_chatgpt_4o_mini_outputs.jsonl\n",
            "Resolving raw.githubusercontent.com (raw.githubusercontent.com)... 185.199.108.133, 185.199.109.133, 185.199.110.133, ...\n",
            "Connecting to raw.githubusercontent.com (raw.githubusercontent.com)|185.199.108.133|:443... connected.\n",
            "HTTP request sent, awaiting response... 200 OK\n",
            "Length: 160193 (156K) [text/plain]\n",
            "Saving to: ‘untrained_chatgpt_4o_mini_outputs.jsonl’\n",
            "\n",
            "\r          untrained   0%[                    ]       0  --.-KB/s               \runtrained_chatgpt_4 100%[===================>] 156.44K  --.-KB/s    in 0.004s  \n",
            "\n",
            "2024-09-23 04:58:28 (36.9 MB/s) - ‘untrained_chatgpt_4o_mini_outputs.jsonl’ saved [160193/160193]\n",
            "\n"
          ]
        }
      ]
    },
    {
      "cell_type": "code",
      "source": [
        "gold_corpus_file = 'gold_corpus_structured_yudakhin.jsonl'\n",
        "llm_output_file = 'untrained_chatgpt_4o_mini_outputs.jsonl'\n",
        "\n",
        "compare_jsonl_files(gold_corpus_file, llm_output_file)"
      ],
      "metadata": {
        "colab": {
          "base_uri": "https://localhost:8080/"
        },
        "id": "mtHL5ntPigtr",
        "outputId": "321fa988-e1a8-484c-8d11-8303506e83b5"
      },
      "execution_count": 21,
      "outputs": [
        {
          "output_type": "stream",
          "name": "stdout",
          "text": [
            "\n",
            "Total statistics across all Task IDs:\n",
            "  Total True Positives (Correctly formatted items): 298\n",
            "  Total False Positives (Extra items not in gold standard): 458\n",
            "  Total False Negatives (Missing or incorrect items): 550\n",
            "\n",
            "Evaluation Metrics:\n",
            "  Accuracy: 22.82%\n",
            "  Precision: 39.42%\n",
            "  Recall: 35.14%\n",
            "  F1 Score: 37.16%\n"
          ]
        }
      ]
    },
    {
      "cell_type": "markdown",
      "source": [
        "# Get vanilla ChatGPT 4o-mini's outputs with few-shot examples"
      ],
      "metadata": {
        "id": "QYwD9Rz7iSlc"
      }
    },
    {
      "cell_type": "code",
      "source": [
        "!wget https://raw.githubusercontent.com/kyrgyz-nlp/structured_yudakhin/refs/heads/main/data/chatgpt_4o_mini_outputs/untrained_chatgpt_4o_mini_outputs_23_examples.jsonl\n",
        "!wget https://raw.githubusercontent.com/kyrgyz-nlp/structured_yudakhin/refs/heads/main/data/chatgpt_4o_mini_outputs/untrained_chatgpt_4o_mini_outputs_17_examples.jsonl\n",
        "!wget https://raw.githubusercontent.com/kyrgyz-nlp/structured_yudakhin/refs/heads/main/data/chatgpt_4o_mini_outputs/untrained_chatgpt_4o_mini_outputs_12_examples.jsonl\n",
        "!wget https://raw.githubusercontent.com/kyrgyz-nlp/structured_yudakhin/refs/heads/main/data/chatgpt_4o_mini_outputs/untrained_chatgpt_4o_mini_outputs_6_examples.jsonl"
      ],
      "metadata": {
        "colab": {
          "base_uri": "https://localhost:8080/"
        },
        "id": "ZEq3sqe_zSzv",
        "outputId": "028b3c07-b16b-4a0e-a283-944f9476c6b3"
      },
      "execution_count": 22,
      "outputs": [
        {
          "output_type": "stream",
          "name": "stdout",
          "text": [
            "--2024-09-23 04:58:40--  https://raw.githubusercontent.com/kyrgyz-nlp/structured_yudakhin/refs/heads/main/data/chatgpt_4o_mini_outputs/untrained_chatgpt_4o_mini_outputs_23_examples.jsonl\n",
            "Resolving raw.githubusercontent.com (raw.githubusercontent.com)... 185.199.108.133, 185.199.109.133, 185.199.110.133, ...\n",
            "Connecting to raw.githubusercontent.com (raw.githubusercontent.com)|185.199.108.133|:443... connected.\n",
            "HTTP request sent, awaiting response... 200 OK\n",
            "Length: 81830 (80K) [text/plain]\n",
            "Saving to: ‘untrained_chatgpt_4o_mini_outputs_23_examples.jsonl’\n",
            "\n",
            "\r          untrained   0%[                    ]       0  --.-KB/s               \runtrained_chatgpt_4 100%[===================>]  79.91K  --.-KB/s    in 0.002s  \n",
            "\n",
            "2024-09-23 04:58:40 (37.2 MB/s) - ‘untrained_chatgpt_4o_mini_outputs_23_examples.jsonl’ saved [81830/81830]\n",
            "\n",
            "--2024-09-23 04:58:40--  https://raw.githubusercontent.com/kyrgyz-nlp/structured_yudakhin/refs/heads/main/data/chatgpt_4o_mini_outputs/untrained_chatgpt_4o_mini_outputs_17_examples.jsonl\n",
            "Resolving raw.githubusercontent.com (raw.githubusercontent.com)... 185.199.108.133, 185.199.109.133, 185.199.110.133, ...\n",
            "Connecting to raw.githubusercontent.com (raw.githubusercontent.com)|185.199.108.133|:443... connected.\n",
            "HTTP request sent, awaiting response... 200 OK\n",
            "Length: 82094 (80K) [text/plain]\n",
            "Saving to: ‘untrained_chatgpt_4o_mini_outputs_17_examples.jsonl’\n",
            "\n",
            "untrained_chatgpt_4 100%[===================>]  80.17K  --.-KB/s    in 0.004s  \n",
            "\n",
            "2024-09-23 04:58:40 (18.4 MB/s) - ‘untrained_chatgpt_4o_mini_outputs_17_examples.jsonl’ saved [82094/82094]\n",
            "\n",
            "--2024-09-23 04:58:41--  https://raw.githubusercontent.com/kyrgyz-nlp/structured_yudakhin/refs/heads/main/data/chatgpt_4o_mini_outputs/untrained_chatgpt_4o_mini_outputs_12_examples.jsonl\n",
            "Resolving raw.githubusercontent.com (raw.githubusercontent.com)... 185.199.108.133, 185.199.109.133, 185.199.110.133, ...\n",
            "Connecting to raw.githubusercontent.com (raw.githubusercontent.com)|185.199.108.133|:443... connected.\n",
            "HTTP request sent, awaiting response... 200 OK\n",
            "Length: 82681 (81K) [text/plain]\n",
            "Saving to: ‘untrained_chatgpt_4o_mini_outputs_12_examples.jsonl’\n",
            "\n",
            "untrained_chatgpt_4 100%[===================>]  80.74K  --.-KB/s    in 0.003s  \n",
            "\n",
            "2024-09-23 04:58:41 (29.6 MB/s) - ‘untrained_chatgpt_4o_mini_outputs_12_examples.jsonl’ saved [82681/82681]\n",
            "\n",
            "--2024-09-23 04:58:41--  https://raw.githubusercontent.com/kyrgyz-nlp/structured_yudakhin/refs/heads/main/data/chatgpt_4o_mini_outputs/untrained_chatgpt_4o_mini_outputs_6_examples.jsonl\n",
            "Resolving raw.githubusercontent.com (raw.githubusercontent.com)... 185.199.108.133, 185.199.109.133, 185.199.110.133, ...\n",
            "Connecting to raw.githubusercontent.com (raw.githubusercontent.com)|185.199.108.133|:443... connected.\n",
            "HTTP request sent, awaiting response... 200 OK\n",
            "Length: 80771 (79K) [text/plain]\n",
            "Saving to: ‘untrained_chatgpt_4o_mini_outputs_6_examples.jsonl’\n",
            "\n",
            "untrained_chatgpt_4 100%[===================>]  78.88K  --.-KB/s    in 0.003s  \n",
            "\n",
            "2024-09-23 04:58:41 (22.6 MB/s) - ‘untrained_chatgpt_4o_mini_outputs_6_examples.jsonl’ saved [80771/80771]\n",
            "\n"
          ]
        }
      ]
    },
    {
      "cell_type": "code",
      "source": [
        "gold_corpus_file = 'gold_corpus_structured_yudakhin.jsonl'\n",
        "llm_output_file = 'untrained_chatgpt_4o_mini_outputs_6_examples.jsonl'\n",
        "\n",
        "compare_jsonl_files(gold_corpus_file, llm_output_file)"
      ],
      "metadata": {
        "colab": {
          "base_uri": "https://localhost:8080/"
        },
        "id": "FgqLgDqFiXu4",
        "outputId": "d1d9019f-4b24-47cf-e0f2-c52c283a709e"
      },
      "execution_count": 23,
      "outputs": [
        {
          "output_type": "stream",
          "name": "stdout",
          "text": [
            "\n",
            "Total statistics across all Task IDs:\n",
            "  Total True Positives (Correctly formatted items): 637\n",
            "  Total False Positives (Extra items not in gold standard): 86\n",
            "  Total False Negatives (Missing or incorrect items): 211\n",
            "\n",
            "Evaluation Metrics:\n",
            "  Accuracy: 68.20%\n",
            "  Precision: 88.11%\n",
            "  Recall: 75.12%\n",
            "  F1 Score: 81.09%\n"
          ]
        }
      ]
    },
    {
      "cell_type": "code",
      "source": [
        "gold_corpus_file = 'gold_corpus_structured_yudakhin.jsonl'\n",
        "llm_output_file = 'untrained_chatgpt_4o_mini_outputs_12_examples.jsonl'\n",
        "\n",
        "compare_jsonl_files(gold_corpus_file, llm_output_file)"
      ],
      "metadata": {
        "colab": {
          "base_uri": "https://localhost:8080/"
        },
        "id": "uc1PE8p2ixE-",
        "outputId": "18fdee02-7c5e-41d5-9bd9-cda96ba03ddf"
      },
      "execution_count": 24,
      "outputs": [
        {
          "output_type": "stream",
          "name": "stdout",
          "text": [
            "\n",
            "Total statistics across all Task IDs:\n",
            "  Total True Positives (Correctly formatted items): 608\n",
            "  Total False Positives (Extra items not in gold standard): 112\n",
            "  Total False Negatives (Missing or incorrect items): 240\n",
            "\n",
            "Evaluation Metrics:\n",
            "  Accuracy: 63.33%\n",
            "  Precision: 84.44%\n",
            "  Recall: 71.70%\n",
            "  F1 Score: 77.55%\n"
          ]
        }
      ]
    },
    {
      "cell_type": "code",
      "source": [
        "gold_corpus_file = 'gold_corpus_structured_yudakhin.jsonl'\n",
        "llm_output_file = 'untrained_chatgpt_4o_mini_outputs_17_examples.jsonl'\n",
        "\n",
        "compare_jsonl_files(gold_corpus_file, llm_output_file)"
      ],
      "metadata": {
        "colab": {
          "base_uri": "https://localhost:8080/"
        },
        "id": "7EZnKfeHiyg4",
        "outputId": "5a90e31e-55b3-492e-fa63-61715a19fcfe"
      },
      "execution_count": 25,
      "outputs": [
        {
          "output_type": "stream",
          "name": "stdout",
          "text": [
            "\n",
            "Total statistics across all Task IDs:\n",
            "  Total True Positives (Correctly formatted items): 640\n",
            "  Total False Positives (Extra items not in gold standard): 96\n",
            "  Total False Negatives (Missing or incorrect items): 208\n",
            "\n",
            "Evaluation Metrics:\n",
            "  Accuracy: 67.80%\n",
            "  Precision: 86.96%\n",
            "  Recall: 75.47%\n",
            "  F1 Score: 80.81%\n"
          ]
        }
      ]
    },
    {
      "cell_type": "code",
      "source": [
        "gold_corpus_file = 'gold_corpus_structured_yudakhin.jsonl'\n",
        "llm_output_file = 'untrained_chatgpt_4o_mini_outputs_23_examples.jsonl'\n",
        "\n",
        "compare_jsonl_files(gold_corpus_file, llm_output_file)"
      ],
      "metadata": {
        "colab": {
          "base_uri": "https://localhost:8080/"
        },
        "id": "2KrxpdIOjVuJ",
        "outputId": "772da267-6f3f-4dd9-9c37-fd93246bca40"
      },
      "execution_count": 26,
      "outputs": [
        {
          "output_type": "stream",
          "name": "stdout",
          "text": [
            "\n",
            "Total statistics across all Task IDs:\n",
            "  Total True Positives (Correctly formatted items): 647\n",
            "  Total False Positives (Extra items not in gold standard): 62\n",
            "  Total False Negatives (Missing or incorrect items): 201\n",
            "\n",
            "Evaluation Metrics:\n",
            "  Accuracy: 71.10%\n",
            "  Precision: 91.26%\n",
            "  Recall: 76.30%\n",
            "  F1 Score: 83.11%\n"
          ]
        }
      ]
    },
    {
      "cell_type": "markdown",
      "source": [
        "# Get fine-tuned ChatGPT-4o-mini's output"
      ],
      "metadata": {
        "id": "aC-YnNhzjmm4"
      }
    },
    {
      "cell_type": "code",
      "source": [
        "!wget https://raw.githubusercontent.com/kyrgyz-nlp/structured_yudakhin/refs/heads/main/data/chatgpt_4o_mini_outputs/finetuned_chatgpt_4o_mini_outputs.jsonl"
      ],
      "metadata": {
        "colab": {
          "base_uri": "https://localhost:8080/"
        },
        "id": "6NxPu7CljbW1",
        "outputId": "4ba8e4ff-65f7-45d4-9428-3f6a1087100e"
      },
      "execution_count": 27,
      "outputs": [
        {
          "output_type": "stream",
          "name": "stdout",
          "text": [
            "--2024-09-23 04:58:47--  https://raw.githubusercontent.com/kyrgyz-nlp/structured_yudakhin/refs/heads/main/data/chatgpt_4o_mini_outputs/finetuned_chatgpt_4o_mini_outputs.jsonl\n",
            "Resolving raw.githubusercontent.com (raw.githubusercontent.com)... 185.199.108.133, 185.199.110.133, 185.199.109.133, ...\n",
            "Connecting to raw.githubusercontent.com (raw.githubusercontent.com)|185.199.108.133|:443... connected.\n",
            "HTTP request sent, awaiting response... 200 OK\n",
            "Length: 80854 (79K) [text/plain]\n",
            "Saving to: ‘finetuned_chatgpt_4o_mini_outputs.jsonl’\n",
            "\n",
            "\r          finetuned   0%[                    ]       0  --.-KB/s               \rfinetuned_chatgpt_4 100%[===================>]  78.96K  --.-KB/s    in 0.002s  \n",
            "\n",
            "2024-09-23 04:58:47 (31.3 MB/s) - ‘finetuned_chatgpt_4o_mini_outputs.jsonl’ saved [80854/80854]\n",
            "\n"
          ]
        }
      ]
    },
    {
      "cell_type": "code",
      "source": [
        "gold_corpus_file = 'gold_corpus_structured_yudakhin.jsonl'\n",
        "llm_output_file = 'finetuned_chatgpt_4o_mini_outputs.jsonl'\n",
        "\n",
        "compare_jsonl_files(gold_corpus_file, llm_output_file)"
      ],
      "metadata": {
        "colab": {
          "base_uri": "https://localhost:8080/"
        },
        "id": "H8-1lzowj22L",
        "outputId": "c2de70f1-c991-42b5-c411-a5f29abcf5ac"
      },
      "execution_count": 28,
      "outputs": [
        {
          "output_type": "stream",
          "name": "stdout",
          "text": [
            "\n",
            "Total statistics across all Task IDs:\n",
            "  Total True Positives (Correctly formatted items): 763\n",
            "  Total False Positives (Extra items not in gold standard): 33\n",
            "  Total False Negatives (Missing or incorrect items): 85\n",
            "\n",
            "Evaluation Metrics:\n",
            "  Accuracy: 86.61%\n",
            "  Precision: 95.85%\n",
            "  Recall: 89.98%\n",
            "  F1 Score: 92.82%\n"
          ]
        }
      ]
    },
    {
      "cell_type": "markdown",
      "source": [
        "# Get vanilla Mistral-Nemo's zero-shot outputs\n"
      ],
      "metadata": {
        "id": "8QusZ8CSlTId"
      }
    },
    {
      "cell_type": "code",
      "source": [
        "!wget https://raw.githubusercontent.com/kyrgyz-nlp/structured_yudakhin/refs/heads/main/data/mistral_nemo_outputs/untrained_mistral_nemo_outputs.jsonl"
      ],
      "metadata": {
        "colab": {
          "base_uri": "https://localhost:8080/"
        },
        "id": "tdxo0DKlj8I1",
        "outputId": "94953f41-6a0e-4b6b-de0b-465cb1a7c55c"
      },
      "execution_count": 29,
      "outputs": [
        {
          "output_type": "stream",
          "name": "stdout",
          "text": [
            "--2024-09-23 04:58:49--  https://raw.githubusercontent.com/kyrgyz-nlp/structured_yudakhin/refs/heads/main/data/mistral_nemo_outputs/untrained_mistral_nemo_outputs.jsonl\n",
            "Resolving raw.githubusercontent.com (raw.githubusercontent.com)... 185.199.108.133, 185.199.109.133, 185.199.110.133, ...\n",
            "Connecting to raw.githubusercontent.com (raw.githubusercontent.com)|185.199.108.133|:443... connected.\n",
            "HTTP request sent, awaiting response... 200 OK\n",
            "Length: 206358 (202K) [text/plain]\n",
            "Saving to: ‘untrained_mistral_nemo_outputs.jsonl’\n",
            "\n",
            "\r          untrained   0%[                    ]       0  --.-KB/s               \runtrained_mistral_n 100%[===================>] 201.52K  --.-KB/s    in 0.003s  \n",
            "\n",
            "2024-09-23 04:58:49 (62.4 MB/s) - ‘untrained_mistral_nemo_outputs.jsonl’ saved [206358/206358]\n",
            "\n"
          ]
        }
      ]
    },
    {
      "cell_type": "code",
      "source": [
        "gold_corpus_file = 'gold_corpus_structured_yudakhin.jsonl'\n",
        "llm_output_file = 'untrained_mistral_nemo_outputs.jsonl'\n",
        "\n",
        "compare_jsonl_files(gold_corpus_file, llm_output_file)"
      ],
      "metadata": {
        "colab": {
          "base_uri": "https://localhost:8080/"
        },
        "id": "2SqwDhLBlgeV",
        "outputId": "9c84a94a-9215-4be3-acbd-d42b56505321"
      },
      "execution_count": 30,
      "outputs": [
        {
          "output_type": "stream",
          "name": "stdout",
          "text": [
            "\n",
            "Total parsing errors: 3\n",
            "\n",
            "Errors parsing 'json' field:\n",
            "  Task ID 853aa35e-10bd-4afe-8591-16b670a7fafd: Error parsing LLM JSON for Task ID 853aa35e-10bd-4afe-8591-16b670a7fafd: Unterminated string starting at: line 8 column 15 (char 138)\n",
            "  Task ID d1c737f7-a5a6-4c6e-803a-34165ac47b25: Error parsing LLM JSON for Task ID d1c737f7-a5a6-4c6e-803a-34165ac47b25: Unterminated string starting at: line 8 column 15 (char 155)\n",
            "  Task ID d9b6c0e6-9896-4edd-b051-afbb676fa563: Error parsing LLM JSON for Task ID d9b6c0e6-9896-4edd-b051-afbb676fa563: Unterminated string starting at: line 8 column 15 (char 135)\n",
            "\n",
            "Total statistics across all Task IDs:\n",
            "  Total True Positives (Correctly formatted items): 349\n",
            "  Total False Positives (Extra items not in gold standard): 572\n",
            "  Total False Negatives (Missing or incorrect items): 499\n",
            "\n",
            "Evaluation Metrics:\n",
            "  Accuracy: 24.58%\n",
            "  Precision: 37.89%\n",
            "  Recall: 41.16%\n",
            "  F1 Score: 39.46%\n"
          ]
        }
      ]
    },
    {
      "cell_type": "markdown",
      "source": [
        "# Get vanilla Mistral-Nemo's few-shot outputs"
      ],
      "metadata": {
        "id": "TpFDvS7gl0qe"
      }
    },
    {
      "cell_type": "code",
      "source": [
        "!wget https://raw.githubusercontent.com/kyrgyz-nlp/structured_yudakhin/refs/heads/main/data/mistral_nemo_outputs/untrained_mistral_nemo_outputs_23_examples.jsonl\n",
        "!wget https://raw.githubusercontent.com/kyrgyz-nlp/structured_yudakhin/refs/heads/main/data/mistral_nemo_outputs/untrained_mistral_nemo_outputs_17_examples.jsonl\n",
        "!wget https://raw.githubusercontent.com/kyrgyz-nlp/structured_yudakhin/refs/heads/main/data/mistral_nemo_outputs/untrained_mistral_nemo_outputs_12_examples.jsonl\n",
        "!wget https://raw.githubusercontent.com/kyrgyz-nlp/structured_yudakhin/refs/heads/main/data/mistral_nemo_outputs/untrained_mistral_nemo_outputs_6_examples.jsonl"
      ],
      "metadata": {
        "colab": {
          "base_uri": "https://localhost:8080/"
        },
        "id": "QcXHPGO_lm68",
        "outputId": "6f1c4e7d-016b-4988-8949-6ce061638d80"
      },
      "execution_count": 31,
      "outputs": [
        {
          "output_type": "stream",
          "name": "stdout",
          "text": [
            "--2024-09-23 04:58:52--  https://raw.githubusercontent.com/kyrgyz-nlp/structured_yudakhin/refs/heads/main/data/mistral_nemo_outputs/untrained_mistral_nemo_outputs_23_examples.jsonl\n",
            "Resolving raw.githubusercontent.com (raw.githubusercontent.com)... 185.199.108.133, 185.199.109.133, 185.199.110.133, ...\n",
            "Connecting to raw.githubusercontent.com (raw.githubusercontent.com)|185.199.108.133|:443... connected.\n",
            "HTTP request sent, awaiting response... 200 OK\n",
            "Length: 84295 (82K) [text/plain]\n",
            "Saving to: ‘untrained_mistral_nemo_outputs_23_examples.jsonl’\n",
            "\n",
            "\r          untrained   0%[                    ]       0  --.-KB/s               \runtrained_mistral_n 100%[===================>]  82.32K  --.-KB/s    in 0.003s  \n",
            "\n",
            "2024-09-23 04:58:52 (29.4 MB/s) - ‘untrained_mistral_nemo_outputs_23_examples.jsonl’ saved [84295/84295]\n",
            "\n",
            "--2024-09-23 04:58:52--  https://raw.githubusercontent.com/kyrgyz-nlp/structured_yudakhin/refs/heads/main/data/mistral_nemo_outputs/untrained_mistral_nemo_outputs_17_examples.jsonl\n",
            "Resolving raw.githubusercontent.com (raw.githubusercontent.com)... 185.199.108.133, 185.199.111.133, 185.199.110.133, ...\n",
            "Connecting to raw.githubusercontent.com (raw.githubusercontent.com)|185.199.108.133|:443... connected.\n",
            "HTTP request sent, awaiting response... 200 OK\n",
            "Length: 84522 (83K) [text/plain]\n",
            "Saving to: ‘untrained_mistral_nemo_outputs_17_examples.jsonl’\n",
            "\n",
            "untrained_mistral_n 100%[===================>]  82.54K  --.-KB/s    in 0.004s  \n",
            "\n",
            "2024-09-23 04:58:52 (20.5 MB/s) - ‘untrained_mistral_nemo_outputs_17_examples.jsonl’ saved [84522/84522]\n",
            "\n",
            "--2024-09-23 04:58:52--  https://raw.githubusercontent.com/kyrgyz-nlp/structured_yudakhin/refs/heads/main/data/mistral_nemo_outputs/untrained_mistral_nemo_outputs_12_examples.jsonl\n",
            "Resolving raw.githubusercontent.com (raw.githubusercontent.com)... 185.199.108.133, 185.199.109.133, 185.199.110.133, ...\n",
            "Connecting to raw.githubusercontent.com (raw.githubusercontent.com)|185.199.108.133|:443... connected.\n",
            "HTTP request sent, awaiting response... 200 OK\n",
            "Length: 86179 (84K) [text/plain]\n",
            "Saving to: ‘untrained_mistral_nemo_outputs_12_examples.jsonl’\n",
            "\n",
            "untrained_mistral_n 100%[===================>]  84.16K  --.-KB/s    in 0.003s  \n",
            "\n",
            "2024-09-23 04:58:52 (26.9 MB/s) - ‘untrained_mistral_nemo_outputs_12_examples.jsonl’ saved [86179/86179]\n",
            "\n",
            "--2024-09-23 04:58:52--  https://raw.githubusercontent.com/kyrgyz-nlp/structured_yudakhin/refs/heads/main/data/mistral_nemo_outputs/untrained_mistral_nemo_outputs_6_examples.jsonl\n",
            "Resolving raw.githubusercontent.com (raw.githubusercontent.com)... 185.199.108.133, 185.199.109.133, 185.199.110.133, ...\n",
            "Connecting to raw.githubusercontent.com (raw.githubusercontent.com)|185.199.108.133|:443... connected.\n",
            "HTTP request sent, awaiting response... 200 OK\n",
            "Length: 82072 (80K) [text/plain]\n",
            "Saving to: ‘untrained_mistral_nemo_outputs_6_examples.jsonl’\n",
            "\n",
            "untrained_mistral_n 100%[===================>]  80.15K  --.-KB/s    in 0.003s  \n",
            "\n",
            "2024-09-23 04:58:52 (31.1 MB/s) - ‘untrained_mistral_nemo_outputs_6_examples.jsonl’ saved [82072/82072]\n",
            "\n"
          ]
        }
      ]
    },
    {
      "cell_type": "code",
      "source": [
        "gold_corpus_file = 'gold_corpus_structured_yudakhin.jsonl'\n",
        "llm_output_file = 'untrained_mistral_nemo_outputs_6_examples.jsonl'\n",
        "\n",
        "compare_jsonl_files(gold_corpus_file, llm_output_file)"
      ],
      "metadata": {
        "colab": {
          "base_uri": "https://localhost:8080/"
        },
        "id": "cxJgskwRmOky",
        "outputId": "efcc0278-055e-4499-99c2-406555959627"
      },
      "execution_count": 32,
      "outputs": [
        {
          "output_type": "stream",
          "name": "stdout",
          "text": [
            "\n",
            "Total statistics across all Task IDs:\n",
            "  Total True Positives (Correctly formatted items): 590\n",
            "  Total False Positives (Extra items not in gold standard): 81\n",
            "  Total False Negatives (Missing or incorrect items): 258\n",
            "\n",
            "Evaluation Metrics:\n",
            "  Accuracy: 63.51%\n",
            "  Precision: 87.93%\n",
            "  Recall: 69.58%\n",
            "  F1 Score: 77.68%\n"
          ]
        }
      ]
    },
    {
      "cell_type": "code",
      "source": [
        "gold_corpus_file = 'gold_corpus_structured_yudakhin.jsonl'\n",
        "llm_output_file = 'untrained_mistral_nemo_outputs_12_examples.jsonl'\n",
        "\n",
        "compare_jsonl_files(gold_corpus_file, llm_output_file)"
      ],
      "metadata": {
        "colab": {
          "base_uri": "https://localhost:8080/"
        },
        "id": "6F8nKcDSmVVs",
        "outputId": "c4e486b0-931e-4a1f-973b-63a30db36e69"
      },
      "execution_count": 33,
      "outputs": [
        {
          "output_type": "stream",
          "name": "stdout",
          "text": [
            "\n",
            "Total statistics across all Task IDs:\n",
            "  Total True Positives (Correctly formatted items): 624\n",
            "  Total False Positives (Extra items not in gold standard): 117\n",
            "  Total False Negatives (Missing or incorrect items): 224\n",
            "\n",
            "Evaluation Metrics:\n",
            "  Accuracy: 64.66%\n",
            "  Precision: 84.21%\n",
            "  Recall: 73.58%\n",
            "  F1 Score: 78.54%\n"
          ]
        }
      ]
    },
    {
      "cell_type": "code",
      "source": [
        "gold_corpus_file = 'gold_corpus_structured_yudakhin.jsonl'\n",
        "llm_output_file = 'untrained_mistral_nemo_outputs_17_examples.jsonl'\n",
        "\n",
        "compare_jsonl_files(gold_corpus_file, llm_output_file)"
      ],
      "metadata": {
        "colab": {
          "base_uri": "https://localhost:8080/"
        },
        "id": "TjfR02pLmXjg",
        "outputId": "6e495461-d42e-4976-ef36-a7c407677877"
      },
      "execution_count": 34,
      "outputs": [
        {
          "output_type": "stream",
          "name": "stdout",
          "text": [
            "\n",
            "Total statistics across all Task IDs:\n",
            "  Total True Positives (Correctly formatted items): 630\n",
            "  Total False Positives (Extra items not in gold standard): 114\n",
            "  Total False Negatives (Missing or incorrect items): 218\n",
            "\n",
            "Evaluation Metrics:\n",
            "  Accuracy: 65.49%\n",
            "  Precision: 84.68%\n",
            "  Recall: 74.29%\n",
            "  F1 Score: 79.15%\n"
          ]
        }
      ]
    },
    {
      "cell_type": "code",
      "source": [
        "gold_corpus_file = 'gold_corpus_structured_yudakhin.jsonl'\n",
        "llm_output_file = 'untrained_mistral_nemo_outputs_23_examples.jsonl'\n",
        "\n",
        "compare_jsonl_files(gold_corpus_file, llm_output_file)"
      ],
      "metadata": {
        "colab": {
          "base_uri": "https://localhost:8080/"
        },
        "id": "gxUdlaY7mbLP",
        "outputId": "8c2962d1-5af8-4dd7-8b94-86d25ddc26e7"
      },
      "execution_count": 35,
      "outputs": [
        {
          "output_type": "stream",
          "name": "stdout",
          "text": [
            "\n",
            "Total statistics across all Task IDs:\n",
            "  Total True Positives (Correctly formatted items): 654\n",
            "  Total False Positives (Extra items not in gold standard): 117\n",
            "  Total False Negatives (Missing or incorrect items): 194\n",
            "\n",
            "Evaluation Metrics:\n",
            "  Accuracy: 67.77%\n",
            "  Precision: 84.82%\n",
            "  Recall: 77.12%\n",
            "  F1 Score: 80.79%\n"
          ]
        }
      ]
    },
    {
      "cell_type": "markdown",
      "source": [
        "# Get fine-tuned Mistral-Nemo's output"
      ],
      "metadata": {
        "id": "kMBSdPWNmqTM"
      }
    },
    {
      "cell_type": "code",
      "source": [
        "!wget https://raw.githubusercontent.com/kyrgyz-nlp/structured_yudakhin/refs/heads/main/data/mistral_nemo_outputs/finedtuned_mistral_nemo_outputs.jsonl"
      ],
      "metadata": {
        "colab": {
          "base_uri": "https://localhost:8080/"
        },
        "id": "28Cc3Y4Pmez2",
        "outputId": "bd783afd-2662-4ca3-c309-6176b859db81"
      },
      "execution_count": 36,
      "outputs": [
        {
          "output_type": "stream",
          "name": "stdout",
          "text": [
            "--2024-09-23 04:59:19--  https://raw.githubusercontent.com/kyrgyz-nlp/structured_yudakhin/refs/heads/main/data/mistral_nemo_outputs/finedtuned_mistral_nemo_outputs.jsonl\n",
            "Resolving raw.githubusercontent.com (raw.githubusercontent.com)... 185.199.108.133, 185.199.109.133, 185.199.110.133, ...\n",
            "Connecting to raw.githubusercontent.com (raw.githubusercontent.com)|185.199.108.133|:443... connected.\n",
            "HTTP request sent, awaiting response... 200 OK\n",
            "Length: 81321 (79K) [text/plain]\n",
            "Saving to: ‘finedtuned_mistral_nemo_outputs.jsonl’\n",
            "\n",
            "\r          finedtune   0%[                    ]       0  --.-KB/s               \rfinedtuned_mistral_ 100%[===================>]  79.42K  --.-KB/s    in 0.003s  \n",
            "\n",
            "2024-09-23 04:59:19 (27.9 MB/s) - ‘finedtuned_mistral_nemo_outputs.jsonl’ saved [81321/81321]\n",
            "\n"
          ]
        }
      ]
    },
    {
      "cell_type": "code",
      "source": [
        "gold_corpus_file = 'gold_corpus_structured_yudakhin.jsonl'\n",
        "llm_output_file = 'finedtuned_mistral_nemo_outputs.jsonl'\n",
        "\n",
        "compare_jsonl_files(gold_corpus_file, llm_output_file)"
      ],
      "metadata": {
        "colab": {
          "base_uri": "https://localhost:8080/"
        },
        "id": "6CPejL0Jmp3r",
        "outputId": "7fc60f62-c379-4ad7-a46d-5e646dc4d2db"
      },
      "execution_count": 37,
      "outputs": [
        {
          "output_type": "stream",
          "name": "stdout",
          "text": [
            "\n",
            "Total statistics across all Task IDs:\n",
            "  Total True Positives (Correctly formatted items): 729\n",
            "  Total False Positives (Extra items not in gold standard): 54\n",
            "  Total False Negatives (Missing or incorrect items): 119\n",
            "\n",
            "Evaluation Metrics:\n",
            "  Accuracy: 80.82%\n",
            "  Precision: 93.10%\n",
            "  Recall: 85.97%\n",
            "  F1 Score: 89.39%\n"
          ]
        }
      ]
    },
    {
      "cell_type": "code",
      "source": [],
      "metadata": {
        "id": "rJVGnAg5m_Hq"
      },
      "execution_count": null,
      "outputs": []
    }
  ],
  "metadata": {
    "colab": {
      "provenance": []
    },
    "kernelspec": {
      "display_name": "Python 3",
      "name": "python3"
    },
    "language_info": {
      "name": "python"
    }
  },
  "nbformat": 4,
  "nbformat_minor": 0
}